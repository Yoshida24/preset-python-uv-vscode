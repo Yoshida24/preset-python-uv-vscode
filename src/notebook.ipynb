{
 "cells": [
  {
   "cell_type": "code",
   "execution_count": 2,
   "metadata": {},
   "outputs": [
    {
     "name": "stdout",
     "output_type": "stream",
     "text": [
      "  ____________\n",
      "| Hello, Alan! |\n",
      "  ============\n",
      "            \\\n",
      "             \\\n",
      "               ^__^\n",
      "               (oo)\\_______\n",
      "               (__)\\       )\\/\\\n",
      "                   ||----w |\n",
      "                   ||     ||\n"
     ]
    }
   ],
   "source": [
    "from packages.cowsay_demo.greeting import greet_to\n",
    "\n",
    "\n",
    "def main():\n",
    "    # use argument to greet\n",
    "    greet_to(your_name=\"Alan\")\n",
    "\n",
    "\n",
    "if __name__ == \"__main__\":\n",
    "    main()"
   ]
  }
 ],
 "metadata": {
  "kernelspec": {
   "display_name": ".venv",
   "language": "python",
   "name": "python3"
  },
  "language_info": {
   "codemirror_mode": {
    "name": "ipython",
    "version": 3
   },
   "file_extension": ".py",
   "mimetype": "text/x-python",
   "name": "python",
   "nbconvert_exporter": "python",
   "pygments_lexer": "ipython3",
   "version": "3.12.9"
  }
 },
 "nbformat": 4,
 "nbformat_minor": 2
}
